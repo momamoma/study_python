{
 "cells": [
  {
   "cell_type": "markdown",
   "metadata": {},
   "source": [
    "# Pythonの勉強\n",
    "## 教材\n",
    "- Python言語によるプログラミングイントロダクション第2版データサイエンスとアプリケーション"
   ]
  },
  {
   "cell_type": "markdown",
   "metadata": {},
   "source": [
    "## day2\n"
   ]
  },
  {
   "cell_type": "markdown",
   "metadata": {},
   "source": [
    "### 第4章　関数、スコープ、抽象化　day1の続き"
   ]
  },
  {
   "cell_type": "code",
   "execution_count": 106,
   "metadata": {},
   "outputs": [],
   "source": [
    "#モジュール\n",
    "#以下をcircle.pyファイルとして作成する。\n",
    "pi = 3.14159\n",
    "\n",
    "def area(radius):\n",
    "    return pi*(radius**2)\n",
    "\n",
    "def circumference(radius):\n",
    "    return 2*pi*radius\n",
    "\n",
    "def sphereSurface(radius):\n",
    "    return 4.0*area(radius)\n",
    "\n",
    "def sphereVolume(radius):\n",
    "    return (4.0/3.0)*pi*(radius**3)"
   ]
  },
  {
   "cell_type": "code",
   "execution_count": 107,
   "metadata": {},
   "outputs": [],
   "source": [
    "import circle"
   ]
  },
  {
   "cell_type": "code",
   "execution_count": 108,
   "metadata": {},
   "outputs": [
    {
     "name": "stdout",
     "output_type": "stream",
     "text": [
      "3\n",
      "3.14159\n",
      "28.27431\n",
      "18.849539999999998\n",
      "113.09724\n",
      "113.09723999999999\n"
     ]
    }
   ],
   "source": [
    "pi = 3\n",
    "print(pi)\n",
    "print(circle.pi)\n",
    "print(circle.area(3))\n",
    "print(circle.circumference(3))\n",
    "print(circle.sphereSurface(3))\n",
    "print(circle.sphereVolume(3))"
   ]
  },
  {
   "cell_type": "markdown",
   "metadata": {},
   "source": [
    "プログラムが大きくなるにつれ、各パーツを別ファイルに分けて保存するほうが便利になる。モジュールはPythonの定義や文を入れる.pyファイである。作成したモジュールはimportでアクセスすることができ、書かれた関数を使うことができる。<br>また、circle.pyファイルの外側では、piとcircle.pyは異なるオブジェクトを参照する。そのため、`pi = 3`はモジュール内のpiに干渉することはない。"
   ]
  },
  {
   "cell_type": "markdown",
   "metadata": {},
   "source": [
    "### 第5章　構造型、可変性と高階関数"
   ]
  },
  {
   "cell_type": "code",
   "execution_count": 109,
   "metadata": {},
   "outputs": [
    {
     "name": "stdout",
     "output_type": "stream",
     "text": [
      "()\n",
      "(1, 'two', 3)\n"
     ]
    }
   ],
   "source": [
    "#tuple\n",
    "t1 = ()\n",
    "t2 = (1, 'two', 3)\n",
    "print(t1)\n",
    "print(t2)"
   ]
  },
  {
   "cell_type": "markdown",
   "metadata": {},
   "source": [
    "タプルは文字列のように不変な要素を順番に並べたものである。文字列との違いは、その要素が文字である必要がない点である。個々の要素はどんな型でも良い。<br>タプル型の値は要素の一覧をカンマで区切り、丸括弧で括ったもの。<br>また、タプルは掛け算によって繰り返しを生成することができる。"
   ]
  },
  {
   "cell_type": "code",
   "execution_count": 110,
   "metadata": {},
   "outputs": [
    {
     "name": "stdout",
     "output_type": "stream",
     "text": [
      "((1, 'two', 3), 3.25)\n",
      "(1, 'two', 3, (1, 'two', 3), 3.25)\n",
      "(1, 'two', 3)\n",
      "(3, (1, 'two', 3), 3.25)\n"
     ]
    }
   ],
   "source": [
    "t1 = (1, 'two', 3)\n",
    "t2 = (t1, 3.25)\n",
    "print(t2) #タプルの中にタプルを含むことが可能\n",
    "print((t1 + t2))\n",
    "print((t1 + t2)[3]) #このとき、添字3は(1, 'two', 3)をさす。t1＋t2を1列として、0番目から番号が振られている。\n",
    "print((t1 + t2)[2:5])"
   ]
  },
  {
   "cell_type": "code",
   "execution_count": 111,
   "metadata": {},
   "outputs": [],
   "source": [
    "def intersect(t1, t2):\n",
    "    \"\"\"\n",
    "    t1とt2はタプルであると仮定する\n",
    "    t1とt2は両方に入っている要素を含むタプルを返す\n",
    "    \"\"\"\n",
    "    result = ()\n",
    "    for e in t1:\n",
    "        if e in t2:\n",
    "            result += (e,)\n",
    "    return result"
   ]
  },
  {
   "cell_type": "code",
   "execution_count": 112,
   "metadata": {},
   "outputs": [
    {
     "data": {
      "text/plain": [
       "()"
      ]
     },
     "execution_count": 112,
     "metadata": {},
     "output_type": "execute_result"
    }
   ],
   "source": [
    "intersect(t1, t2)"
   ]
  },
  {
   "cell_type": "code",
   "execution_count": 113,
   "metadata": {},
   "outputs": [
    {
     "name": "stdout",
     "output_type": "stream",
     "text": [
      "x is  3\n",
      "y is  4\n",
      "abc is  x y z\n"
     ]
    }
   ],
   "source": [
    "#順序型と多重代入\n",
    "x, y = (3, 4)\n",
    "a, b, c = 'xyz'\n",
    "print('x is ', x)\n",
    "print('y is ', y)\n",
    "print('abc is ', a, b, c) #文字列も分解されて代入されている"
   ]
  },
  {
   "cell_type": "code",
   "execution_count": 114,
   "metadata": {},
   "outputs": [],
   "source": [
    "def findExtremeDivision(n1, n2):\n",
    "    \"\"\"\n",
    "    n1とn2正のint型とする\n",
    "    n1とn2の最小の公約数　>1　と最大の公約数からなるタプルを返す\n",
    "    公約数が無い場合、（None, None)を返す\n",
    "    \"\"\"\n",
    "    minVal, maxVal = None, None\n",
    "#     r = range(2, min(n1, n2) + 1)\n",
    "#     print('range ', r)\n",
    "    for i in range(2, min(n1, n2) + 1): #2から最小の公約数を見つけていき、最大公約数を探す。\n",
    "        if n1%i == 0 and n2%i == 0:\n",
    "            if minVal == None:\n",
    "                minVal = i\n",
    "            maxVal = i #最大公約数はループが回るごとに更新していく\n",
    "    return (minVal, maxVal)"
   ]
  },
  {
   "cell_type": "code",
   "execution_count": 115,
   "metadata": {},
   "outputs": [
    {
     "name": "stdout",
     "output_type": "stream",
     "text": [
      "2 100\n"
     ]
    }
   ],
   "source": [
    "minDivisor, maxDivisior = findExtremeDivision(100, 200)\n",
    "print(minDivisor, maxDivisior)"
   ]
  },
  {
   "cell_type": "code",
   "execution_count": 116,
   "metadata": {},
   "outputs": [],
   "source": [
    "#リストと可変性\n",
    "Techs = ['MIT', 'Caltech']\n",
    "Ivys = ['Harvard', 'Yale', 'Brown']\n",
    "\n",
    "Univs = [Techs, Ivys]\n",
    "Univs1 = [['MIT', 'Caltech'], ['Harvard', 'Yale', 'Brown']]"
   ]
  },
  {
   "cell_type": "code",
   "execution_count": 117,
   "metadata": {},
   "outputs": [
    {
     "name": "stdout",
     "output_type": "stream",
     "text": [
      "univs = [['MIT', 'Caltech'], ['Harvard', 'Yale', 'Brown']]\n",
      "univs1 = [['MIT', 'Caltech'], ['Harvard', 'Yale', 'Brown']]\n",
      "True\n"
     ]
    }
   ],
   "source": [
    "print('univs =', Univs)\n",
    "print('univs1 =', Univs1)\n",
    "print(Univs == Univs1)"
   ]
  },
  {
   "cell_type": "markdown",
   "metadata": {},
   "source": [
    "上記ではunivsとunivs1が同一であるように見える。しかし、univsとunivs1には全く別のオブジェクトが割り当てられている。"
   ]
  },
  {
   "cell_type": "code",
   "execution_count": 118,
   "metadata": {},
   "outputs": [
    {
     "name": "stdout",
     "output_type": "stream",
     "text": [
      "True\n",
      "False\n",
      "id of univs = 4467726768\n",
      "id of univs1 = 4467727568\n"
     ]
    }
   ],
   "source": [
    "print(Univs == Univs1) #値が等しいかのテスト\n",
    "print(id(Univs) == id(Univs1)) #オブジェクトが等しいかのテスト\n",
    "print('id of univs =', id(Univs))\n",
    "print('id of univs1 =', id(Univs1))"
   ]
  },
  {
   "cell_type": "markdown",
   "metadata": {},
   "source": [
    "Univsの中には、TechsとIvysのリストがコピーではなく、リスト自身が紐付けられている。<br>Univs1には無名のリストが紐付けられているだけである。"
   ]
  },
  {
   "cell_type": "markdown",
   "metadata": {},
   "source": [
    "### 第10章　いくつかの単純なアルゴリズムとデータ構造\n",
    "第6、7、8、9、章は後回し"
   ]
  },
  {
   "cell_type": "code",
   "execution_count": 171,
   "metadata": {},
   "outputs": [],
   "source": [
    "ll = ['a', 'b', 'c', 'd', 'e']\n",
    "ee = 'c'"
   ]
  },
  {
   "cell_type": "code",
   "execution_count": 172,
   "metadata": {},
   "outputs": [],
   "source": [
    "#探索アルゴリズム\n",
    "#線形探索および間接参照による要素へのアクセス\n",
    "def search(L, e):\n",
    "    \"\"\"\n",
    "    Lを要素が昇順でならんだリストとする。\n",
    "    eがLにあればTrueを、そうでなければFalseを返す\n",
    "    \"\"\"\n",
    "    \n",
    "    for ii in range(len(L)):\n",
    "        if L[ii] == e:\n",
    "            return True\n",
    "        if L[ii] > e:\n",
    "            return False\n",
    "    return False\n",
    "    "
   ]
  },
  {
   "cell_type": "markdown",
   "metadata": {},
   "source": [
    "もし要素eがリストLに含まれていなかったら、このアルゴリズムはlen(L)回テストを実行することになる。しかし、`if L[ii] > e:`この行によって計算時間が改善されるはずである。"
   ]
  },
  {
   "cell_type": "code",
   "execution_count": 173,
   "metadata": {},
   "outputs": [
    {
     "data": {
      "text/plain": [
       "True"
      ]
     },
     "execution_count": 173,
     "metadata": {},
     "output_type": "execute_result"
    }
   ],
   "source": [
    "search(ll, ee)"
   ]
  },
  {
   "cell_type": "code",
   "execution_count": 185,
   "metadata": {},
   "outputs": [],
   "source": [
    "ll = ['a', 'b', 'c', 'd', 'e']\n",
    "ee = 'c'"
   ]
  },
  {
   "cell_type": "code",
   "execution_count": 186,
   "metadata": {},
   "outputs": [],
   "source": [
    "# 再起による2分探索\n",
    "\n",
    "def search(L, e):\n",
    "    \"\"\"\n",
    "    Lを要素が昇順でならんだリストとする。\n",
    "    eがLにあればTrueを、そうでなければFalseを返す\n",
    "    \"\"\"     \n",
    "    def bSearch(L, e, low, high):\n",
    "        #high - lowを減少させる\n",
    "        if high == low: #最小値と最大値が同じ場合を例外として処理\n",
    "            return L[low] == e\n",
    "        mid = (low + high)//2 #中間値を決める。(a // b #切り捨て除算)\n",
    "        \n",
    "        if L[mid] == e: #中間値がそのままeであれば終了\n",
    "            return True\n",
    "        elif L[mid] > e: #中間値がeより前の位置にあるならば、highを中間値に変更する。\n",
    "            if low == mid: #探索対象は残っていない。\n",
    "                return False\n",
    "            else:\n",
    "                return bSearch(L, e, low, mid - 1) #highを1減少させた範囲で計算\n",
    "        else : #中間値がmidより後にある場合。\n",
    "            return bSearch(L, e, mid + 1, high)\n",
    "\n",
    "    # 初めにこのif文でhighとlowを決定している。\n",
    "    if len(L) == 0:\n",
    "        return False\n",
    "    else:\n",
    "        return bSearch(L, e, 0, len(L) - 1)"
   ]
  },
  {
   "cell_type": "markdown",
   "metadata": {},
   "source": [
    "関数bSearchの減少関数はhige-low。これにより、各再帰呼び出しの実行が短くなる。<br>また直接bSearch関数を呼び出すべきではない。これは「リストからある要素を探す」という目的と、lowやhighは関係が無いからである。"
   ]
  },
  {
   "cell_type": "code",
   "execution_count": 187,
   "metadata": {},
   "outputs": [
    {
     "data": {
      "text/plain": [
       "True"
      ]
     },
     "execution_count": 187,
     "metadata": {},
     "output_type": "execute_result"
    }
   ],
   "source": [
    "search(ll, ee)"
   ]
  },
  {
   "cell_type": "code",
   "execution_count": 188,
   "metadata": {},
   "outputs": [],
   "source": []
  },
  {
   "cell_type": "code",
   "execution_count": null,
   "metadata": {},
   "outputs": [],
   "source": []
  },
  {
   "cell_type": "code",
   "execution_count": null,
   "metadata": {},
   "outputs": [],
   "source": []
  }
 ],
 "metadata": {
  "kernelspec": {
   "display_name": "Python 3",
   "language": "python",
   "name": "python3"
  },
  "language_info": {
   "codemirror_mode": {
    "name": "ipython",
    "version": 3
   },
   "file_extension": ".py",
   "mimetype": "text/x-python",
   "name": "python",
   "nbconvert_exporter": "python",
   "pygments_lexer": "ipython3",
   "version": "3.7.5"
  }
 },
 "nbformat": 4,
 "nbformat_minor": 4
}
