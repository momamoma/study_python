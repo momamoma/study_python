{
 "cells": [
  {
   "cell_type": "markdown",
   "metadata": {},
   "source": [
    "# Pythonの勉強\n",
    "## 教材\n",
    "- Python言語によるプログラミングイントロダクション第2版データサイエンスとアプリケーション"
   ]
  },
  {
   "cell_type": "markdown",
   "metadata": {},
   "source": [
    "## day3"
   ]
  },
  {
   "cell_type": "markdown",
   "metadata": {},
   "source": [
    "### 第10章　いくつかの単純なアルゴリズムとデータ構造　day2の続き\n",
    "第6、7、8、9、章は後回し。一部コードはコピー"
   ]
  },
  {
   "cell_type": "code",
   "execution_count": 70,
   "metadata": {},
   "outputs": [],
   "source": [
    "#ソーティングアルゴリズム\n",
    "#選択ソート\n",
    "def selSort(L):\n",
    "    \"\"\"Lを，>を用いて比較できる要素(辞書の順序や数字の大小など？)からなるリストとする\n",
    "       Lを昇順にソートする\"\"\"\n",
    "\n",
    "    #リストを2つに分割して考える。L[0:i]をプレフィックス、L[i+1, len(L)]をサフィックスとしている。\n",
    "    suffixStart = 0\n",
    "    while suffixStart != len(L):\n",
    "        print(L)\n",
    "        print('L[suffixStart] is', L[suffixStart])\n",
    "\n",
    "        #サフィックスの各要素を見る\n",
    "        for i in range(suffixStart, len(L)):\n",
    "            print('L[i] is ', L[i])\n",
    "\n",
    "            if L[i] < L[suffixStart]: #不等号を変えると降順になる。\n",
    "                #要素の位置を入れ替える\n",
    "#                 L[suffixStart]= L[i]\n",
    "#                 L[i] = L[suffixStart]\n",
    "\n",
    "                L[suffixStart], L[i] = L[i], L[suffixStart] #まだ理解できてない。\n",
    "        suffixStart += 1 \n"
   ]
  },
  {
   "cell_type": "code",
   "execution_count": 69,
   "metadata": {},
   "outputs": [
    {
     "name": "stdout",
     "output_type": "stream",
     "text": [
      "['a', 'b', 'e', 'c', 'd']\n",
      "L[suffixStart] is a\n",
      "L[i] is  a\n",
      "L[i] is  b\n",
      "L[i] is  e\n",
      "L[i] is  c\n",
      "L[i] is  d\n",
      "['a', 'b', 'e', 'c', 'd']\n",
      "L[suffixStart] is b\n",
      "L[i] is  b\n",
      "L[i] is  e\n",
      "L[i] is  c\n",
      "L[i] is  d\n",
      "['a', 'b', 'e', 'c', 'd']\n",
      "L[suffixStart] is e\n",
      "L[i] is  e\n",
      "L[i] is  c\n",
      "L[i] is  d\n",
      "['a', 'b', 'c', 'e', 'd']\n",
      "L[suffixStart] is e\n",
      "L[i] is  e\n",
      "L[i] is  d\n",
      "['a', 'b', 'c', 'd', 'e']\n",
      "L[suffixStart] is e\n",
      "L[i] is  e\n"
     ]
    },
    {
     "data": {
      "text/plain": [
       "['a', 'b', 'c', 'd', 'e']"
      ]
     },
     "execution_count": 69,
     "metadata": {},
     "output_type": "execute_result"
    }
   ],
   "source": [
    "# ll = ['a', 'b', 'e', 'c', 'd']\n",
    "ll = ['a', 'b', 'e', 'c', 'd']\n",
    "\n",
    "# ll = [1, 3, 4, 2, 5]\n",
    "\n",
    "selSort(ll)\n",
    "ll"
   ]
  },
  {
   "cell_type": "markdown",
   "metadata": {},
   "source": [
    "この選択ソートは単純であるが効率的ではない。外側のwhileループの繰り返し数はlen(L)であり、内側のforループもlen(L)であるため、計算時間はlen(L)**2である。"
   ]
  },
  {
   "cell_type": "code",
   "execution_count": 85,
   "metadata": {},
   "outputs": [],
   "source": [
    "#マージソート\n",
    "def merge(left, right, compare):\n",
    "    \"\"\"leftとrightをソート済みのリストとし，\n",
    "       compareを要素間の順序を定義する関数とする\n",
    "       (left + right)と同じ要素からなり，\n",
    "       compareに従いソートされた新たなリストを返す\"\"\"\n",
    "\n",
    "    result = [] #それぞれのリストの最初の要素を比較し、小さい方を入れていく\n",
    "    i,j = 0, 0\n",
    "    while i < len(left) and j < len(right):\n",
    "        if compare(left[i], right[j]): #mergeSort関数のラムダ。\n",
    "            result.append(left[i]) #left > rightの場合追加していく。\n",
    "            i += 1\n",
    "        else:\n",
    "            result.append(right[j]) #left < rightの場合追加していく\n",
    "            j += 1\n",
    "    #left or rightのどっちかがすでに全部追加された場合\n",
    "    while (i < len(left)): #丸括弧あってもなくてもいいみたい\n",
    "        result.append(left[i])\n",
    "        i += 1\n",
    "    while (j < len(right)):\n",
    "        result.append(right[j])\n",
    "        j += 1\n",
    "    return result\n",
    "\n",
    "def mergeSort(L, compare = lambda x, y: x < y): #＃デフォは昇順\n",
    "    \"\"\"Lをリストとし，\n",
    "       compareをLの要素間の順序を定義する関数とする\n",
    "       Lと同じ要素からなり，ソートされた新たなリストを返す\"\"\"\n",
    "    #リスト長が0 or 1の場合すでにsortされているとみなす。\n",
    "    if len(L) < 2:\n",
    "        return L[:]\n",
    "    else:\n",
    "        middle = len(L)//2 #あまり無し。切り捨て\n",
    "        left = mergeSort(L[:middle], compare) #リストを中間値で半分に分ける。\n",
    "        right = mergeSort(L[middle:], compare)\n",
    "        return merge(left, right, compare) #ここでmerge関数を呼び出す。\n"
   ]
  },
  {
   "cell_type": "code",
   "execution_count": 78,
   "metadata": {},
   "outputs": [
    {
     "name": "stdout",
     "output_type": "stream",
     "text": [
      "[1, 2, 3, 4, 5]\n",
      "[5, 4, 3, 2, 1]\n"
     ]
    }
   ],
   "source": [
    "L = [2, 1, 4, 5, 3]\n",
    "print(mergeSort(L))\n",
    "print(mergeSort(L, lambda x, y: x > y)) #降順"
   ]
  },
  {
   "cell_type": "markdown",
   "metadata": {},
   "source": [
    "選択ソートより、マージソートは計算時間においては優れている。len(L)**2 > len(L)*log(len(L))<br>\n",
    "しかし、選択ソートと違いマージソートはリストのコピーが必要であるため、長いリストの際は、メモリをたくさん食ってしまう。"
   ]
  },
  {
   "cell_type": "code",
   "execution_count": 88,
   "metadata": {},
   "outputs": [],
   "source": [
    "#Pythonで実装されているソーティングアルゴリズム\n",
    "#ティムソート\n",
    "def lastNameFirstName(name1, name2): #mergeSortと共に使うと、name1, 2にleft[i], right[j]が代入される\n",
    "    arg1 = name1.split(' ') #スペースでsplit\n",
    "    arg2 = name2.split(' ')\n",
    "    if arg1[1] != arg2[1]: #名前の後半を比較している。\n",
    "        return arg1[1] < arg2[1] #この比較がTrueかFalseかをmergeSortで評価する。\n",
    "    else: #姓が同じであれば，名によりソート\n",
    "        return arg1[0] < arg2[0]\n",
    "\n",
    "def firstNameLastName(name1, name2):\n",
    "    arg1 = name1.split(' ')\n",
    "    arg2 = name2.split(' ')\n",
    "    if arg1[0] != arg2[0]:\n",
    "        return arg1[0] < arg2[0]\n",
    "    else: #名が同じであれば，姓によりソート\n",
    "        return arg1[1] < arg2[1]\n",
    "\n"
   ]
  },
  {
   "cell_type": "code",
   "execution_count": 87,
   "metadata": {},
   "outputs": [
    {
     "name": "stdout",
     "output_type": "stream",
     "text": [
      "Sorted by last name = ['Tom Brady', 'Gisele Bundchen', 'Eric Grimon']\n"
     ]
    }
   ],
   "source": [
    "L = ['Tom Brady', 'Eric Grimon', 'Gisele Bundchen'] #スペースで名前が区切られているリスト\n",
    "newL = mergeSort(L, lastNameFirstName) #lambdaをこの関数で実行\n",
    "print('Sorted by last name =', newL)"
   ]
  },
  {
   "cell_type": "markdown",
   "metadata": {},
   "source": [
    "このアルゴリズムの前提というか想定は、たいていのデータは部分的にはソートされているという事実である。"
   ]
  },
  {
   "cell_type": "code",
   "execution_count": 94,
   "metadata": {},
   "outputs": [
    {
     "name": "stdout",
     "output_type": "stream",
     "text": [
      "[2, 3, 4]\n",
      "[3, 4, 2]\n",
      "[2, 3, 4]\n",
      "['a', 'b', 'c']\n"
     ]
    },
    {
     "ename": "AttributeError",
     "evalue": "'dict' object has no attribute 'sort'",
     "output_type": "error",
     "traceback": [
      "\u001b[0;31m---------------------------------------------------------------------------\u001b[0m",
      "\u001b[0;31mAttributeError\u001b[0m                            Traceback (most recent call last)",
      "\u001b[0;32m<ipython-input-94-6ad6467cf49c>\u001b[0m in \u001b[0;36m<module>\u001b[0;34m\u001b[0m\n\u001b[1;32m     14\u001b[0m \u001b[0mprint\u001b[0m\u001b[0;34m(\u001b[0m\u001b[0msorted\u001b[0m\u001b[0;34m(\u001b[0m\u001b[0mD\u001b[0m\u001b[0;34m)\u001b[0m\u001b[0;34m)\u001b[0m\u001b[0;34m\u001b[0m\u001b[0;34m\u001b[0m\u001b[0m\n\u001b[1;32m     15\u001b[0m \u001b[0;31m#メソッドsortは辞書に使うと、dict.sortというメソッドが存在しないためエラーを返す。\u001b[0m\u001b[0;34m\u001b[0m\u001b[0;34m\u001b[0m\u001b[0;34m\u001b[0m\u001b[0m\n\u001b[0;32m---> 16\u001b[0;31m \u001b[0mD\u001b[0m\u001b[0;34m.\u001b[0m\u001b[0msort\u001b[0m\u001b[0;34m(\u001b[0m\u001b[0;34m)\u001b[0m\u001b[0;34m\u001b[0m\u001b[0;34m\u001b[0m\u001b[0m\n\u001b[0m",
      "\u001b[0;31mAttributeError\u001b[0m: 'dict' object has no attribute 'sort'"
     ]
    }
   ],
   "source": [
    "#Pythonのリストのメソッドと関数\n",
    "L = [3, 4, 2]\n",
    "\n",
    "#sorted関数は元のリストを変更しない。\n",
    "print(sorted(L))\n",
    "print(L)\n",
    "#list.sortメソッドは元のリストを変更してしまう。\n",
    "L.sort()\n",
    "print(L)\n",
    "\n",
    "D = {'a':12, 'c':5, 'b':'dog'}\n",
    "\n",
    "#関数sortedは辞書に対して使うと、ソートされた辞書の’キー’を要素にもつリストを返す\n",
    "print(sorted(D))\n",
    "#メソッドsortは辞書に使うと、dict.sortというメソッドが存在しないためエラーを返す。\n",
    "D.sort()"
   ]
  },
  {
   "cell_type": "code",
   "execution_count": 103,
   "metadata": {},
   "outputs": [
    {
     "name": "stdout",
     "output_type": "stream",
     "text": [
      "[(3, 2, 1, 0), [1, 2, 3], 'abc']\n"
     ]
    }
   ],
   "source": [
    "#sorted, list.sortは引数を3つモテる。keyと昇順降順の選択である。\n",
    "L = [[1, 2, 3], (3, 2, 1, 0), 'abc']\n",
    "print(sorted(L, key = len, reverse = True)) #keyはlambdaっぽい動き？関数を渡せることはわかった。"
   ]
  },
  {
   "cell_type": "markdown",
   "metadata": {},
   "source": [
    "以下pythonドキュメントより（https://docs.python.org/ja/3/howto/sorting.html）\n",
    "```\n",
    "list.sort() と sorted() には key パラメータがあります。 これは比較を行う前にリストの各要素に対して呼び出される関数を指定するパラメータです。\n",
    "\n",
    "例えば、大文字小文字を区別しない文字列比較の例:\n",
    "\n",
    ">>> sorted(\"This is a test string from Andrew\".split(), key=str.lower)\n",
    "['a', 'Andrew', 'from', 'is', 'string', 'test', 'This']\n",
    "key パラメータは単一の引数をとり、ソートに利用される key を返さなければいけません。この制約によりソートを高速に行えます、キー関数は各入力レコードに対してきっちり一回だけ呼び出されるからです。\n",
    "\n",
    "よくある利用パターンはいくつかの要素から成る対象をインデクスのどれかをキーとしてソートすることです。例えば:\n",
    "\n",
    ">>> student_tuples = [\n",
    "...     ('john', 'A', 15),\n",
    "...     ('jane', 'B', 12),\n",
    "...     ('dave', 'B', 10),\n",
    "... ]\n",
    ">>> sorted(student_tuples, key=lambda student: student[2])   # sort by age\n",
    "[('dave', 'B', 10), ('jane', 'B', 12), ('john', 'A', 15)]\n",
    "同じテクニックは名前づけされた属性 (named attributes) を使うことでオブジェクトに対しても動作します。例えば:\n",
    "\n",
    ">>> class Student:\n",
    "...     def __init__(self, name, grade, age):\n",
    "...         self.name = name\n",
    "...         self.grade = grade\n",
    "...         self.age = age\n",
    "...     def __repr__(self):\n",
    "...         return repr((self.name, self.grade, self.age))\n",
    ">>> student_objects = [\n",
    "...     Student('john', 'A', 15),\n",
    "...     Student('jane', 'B', 12),\n",
    "...     Student('dave', 'B', 10),\n",
    "... ]\n",
    ">>> sorted(student_objects, key=lambda student: student.age)   # sort by age\n",
    "[('dave', 'B', 10), ('jane', 'B', 12), ('john', 'A', 15)]\n",
    "```"
   ]
  },
  {
   "cell_type": "markdown",
   "metadata": {},
   "source": [
    "list.sortとsortedは安定ソート呼ばれる。安定ソートとは、2つの要素がソートで用いられる比較で等しい場合、その相対順序が元のリストと同じく結果のリストでも保たれる。<br>先ほどのリストでは[1, 2, 3], 'abc'は等しいと判断され、出力された結果が元のリストと同じ相対順序で返された。"
   ]
  },
  {
   "cell_type": "code",
   "execution_count": 104,
   "metadata": {},
   "outputs": [],
   "source": [
    "#ハッシュ表\n",
    "#理解がまだできてないので飛ばす。"
   ]
  },
  {
   "cell_type": "code",
   "execution_count": null,
   "metadata": {},
   "outputs": [],
   "source": []
  }
 ],
 "metadata": {
  "kernelspec": {
   "display_name": "Python 3",
   "language": "python",
   "name": "python3"
  },
  "language_info": {
   "codemirror_mode": {
    "name": "ipython",
    "version": 3
   },
   "file_extension": ".py",
   "mimetype": "text/x-python",
   "name": "python",
   "nbconvert_exporter": "python",
   "pygments_lexer": "ipython3",
   "version": "3.7.5"
  }
 },
 "nbformat": 4,
 "nbformat_minor": 4
}
