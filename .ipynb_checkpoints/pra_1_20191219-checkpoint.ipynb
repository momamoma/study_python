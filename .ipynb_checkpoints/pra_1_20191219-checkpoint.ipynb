{
 "cells": [
  {
   "cell_type": "markdown",
   "metadata": {},
   "source": [
    "# Pythonの勉強\n",
    "## 教材\n",
    "- Python言語によるプログラミングイントロダクション第2版データサイエンスとアプリケーション\n"
   ]
  },
  {
   "cell_type": "markdown",
   "metadata": {},
   "source": [
    "## day1\n",
    "### 第2章　Pythonの概要"
   ]
  },
  {
   "cell_type": "code",
   "execution_count": 2,
   "metadata": {},
   "outputs": [
    {
     "data": {
      "text/plain": [
       "363"
      ]
     },
     "execution_count": 2,
     "metadata": {},
     "output_type": "execute_result"
    }
   ],
   "source": [
    "# 変数と代入\n",
    "pi = 3\n",
    "radius =11\n",
    "area = pi * (radius ** 2) #円の面積\n",
    "radius = 14\n",
    "area"
   ]
  },
  {
   "cell_type": "markdown",
   "metadata": {},
   "source": [
    "radiusは異なる整数型のオブジェクトと再度紐付けされた。このとき、areaの値には影響しない。"
   ]
  },
  {
   "cell_type": "code",
   "execution_count": 3,
   "metadata": {},
   "outputs": [
    {
     "name": "stdout",
     "output_type": "stream",
     "text": [
      "2 , 3\n"
     ]
    }
   ],
   "source": [
    "# 複数の代入を1行で書くことができる\n",
    "x, y = 2, 3\n",
    "print(x,\",\", y)"
   ]
  },
  {
   "cell_type": "markdown",
   "metadata": {},
   "source": [
    "xに2、yに3が代入されている"
   ]
  },
  {
   "cell_type": "code",
   "execution_count": 4,
   "metadata": {},
   "outputs": [
    {
     "name": "stdout",
     "output_type": "stream",
     "text": [
      "x =  3\n",
      "y =  2\n"
     ]
    }
   ],
   "source": [
    "x, y = 2, 3\n",
    "x, y = y, x\n",
    "print('x = ', x)\n",
    "print('y = ', y)"
   ]
  },
  {
   "cell_type": "markdown",
   "metadata": {},
   "source": [
    "xに3、yに2が代入されている。\n",
    "x, y = y, x\n",
    "の行で交換されている"
   ]
  },
  {
   "cell_type": "code",
   "execution_count": 5,
   "metadata": {},
   "outputs": [
    {
     "name": "stdout",
     "output_type": "stream",
     "text": [
      "Odd\n",
      "x =  3\n",
      "Done with conditional\n"
     ]
    }
   ],
   "source": [
    "#分岐プログラム\n",
    "if x%2 == 0:\n",
    "    print('Even')\n",
    "else:\n",
    "    print('Odd')\n",
    "print('x = ', x)\n",
    "print('Done with conditional')"
   ]
  },
  {
   "cell_type": "markdown",
   "metadata": {},
   "source": [
    "x = 3であり、奇数であることから、\n",
    "x%2 == 0\n",
    "この式がFalseと判断された。よってifブロック内は処理されず、elseブロックの処理が行われた"
   ]
  },
  {
   "cell_type": "code",
   "execution_count": 6,
   "metadata": {},
   "outputs": [
    {
     "name": "stdout",
     "output_type": "stream",
     "text": [
      "Divisible by 3 and not by 2\n",
      "x =  3\n"
     ]
    }
   ],
   "source": [
    "#ネスト\n",
    "if x%2 == 0:\n",
    "    if x%3 == 0:\n",
    "        print('Divisible by 2 and 3')\n",
    "    else:\n",
    "        print('Divisible by 2 and not by 3')\n",
    "elif x%3 == 0: #else ifを表している\n",
    "    print('Divisible by 3 and not by 2')\n",
    "print('x = ', x)\n"
   ]
  },
  {
   "cell_type": "code",
   "execution_count": 7,
   "metadata": {},
   "outputs": [
    {
     "name": "stdout",
     "output_type": "stream",
     "text": [
      "x =  2\n",
      "y =  5\n",
      "z =  3\n",
      "x is least \n"
     ]
    }
   ],
   "source": [
    "#複合論理式\n",
    "x, y, z = 2, 5, 3\n",
    "print('x = ', x)\n",
    "print('y = ', y)\n",
    "print('z = ', z)\n",
    "if x < y and x < z:\n",
    "    print('x is least ')\n",
    "elif y < z:\n",
    "    print('y is least')\n",
    "else:\n",
    "    print('z is least')"
   ]
  },
  {
   "cell_type": "markdown",
   "metadata": {},
   "source": [
    "初めのif文でx < y,z であることがわかり、そのブロックが実行された。このとき、elifの条件文はスキップされる。"
   ]
  },
  {
   "cell_type": "code",
   "execution_count": 8,
   "metadata": {},
   "outputs": [
    {
     "name": "stdout",
     "output_type": "stream",
     "text": [
      "3\n"
     ]
    }
   ],
   "source": [
    "#文字列と入力\n",
    "ss = 'abc'\n",
    "print(len(ss))"
   ]
  },
  {
   "cell_type": "code",
   "execution_count": 9,
   "metadata": {},
   "outputs": [
    {
     "ename": "IndexError",
     "evalue": "string index out of range",
     "output_type": "error",
     "traceback": [
      "\u001b[0;31m---------------------------------------------------------------------------\u001b[0m",
      "\u001b[0;31mIndexError\u001b[0m                                Traceback (most recent call last)",
      "\u001b[0;32m<ipython-input-9-c6431ea35130>\u001b[0m in \u001b[0;36m<module>\u001b[0;34m\u001b[0m\n\u001b[1;32m      1\u001b[0m \u001b[0;31m#pythonでは添字は0から始まる\u001b[0m\u001b[0;34m\u001b[0m\u001b[0;34m\u001b[0m\u001b[0;34m\u001b[0m\u001b[0m\n\u001b[1;32m      2\u001b[0m \u001b[0;31m#以下のcodeはエラーになる\u001b[0m\u001b[0;34m\u001b[0m\u001b[0;34m\u001b[0m\u001b[0;34m\u001b[0m\u001b[0m\n\u001b[0;32m----> 3\u001b[0;31m \u001b[0mss\u001b[0m\u001b[0;34m[\u001b[0m\u001b[0;36m3\u001b[0m\u001b[0;34m]\u001b[0m \u001b[0;31m#error\u001b[0m\u001b[0;34m\u001b[0m\u001b[0;34m\u001b[0m\u001b[0m\n\u001b[0m",
      "\u001b[0;31mIndexError\u001b[0m: string index out of range"
     ]
    }
   ],
   "source": [
    "#pythonでは添字は0から始まる\n",
    "#以下のcodeはエラーになる\n",
    "ss[3] #error"
   ]
  },
  {
   "cell_type": "code",
   "execution_count": 10,
   "metadata": {},
   "outputs": [
    {
     "data": {
      "text/plain": [
       "'c'"
      ]
     },
     "execution_count": 10,
     "metadata": {},
     "output_type": "execute_result"
    }
   ],
   "source": [
    "#-1で最後の文字を持ってくることができる\n",
    "ss[-1] #c が表示される"
   ]
  },
  {
   "cell_type": "code",
   "execution_count": 14,
   "metadata": {},
   "outputs": [
    {
     "name": "stdout",
     "output_type": "stream",
     "text": [
      "4*4=16\n"
     ]
    }
   ],
   "source": [
    "#繰り返し\n",
    "#整数の2乗を地道に求める\n",
    "x = 4\n",
    "ans = 0\n",
    "itersLeft = x\n",
    "\n",
    "while (itersLeft != 0):\n",
    "    ans = ans + x\n",
    "    itersLeft = itersLeft - 1 #これが0になるまで繰り返される\n",
    "print(str(x) + '*' + str(x) + '=' + str(ans))\n"
   ]
  },
  {
   "cell_type": "markdown",
   "metadata": {},
   "source": [
    "test | x | ans | itersLeft <br>\n",
    " 1   | 3 |  0  | 3 <br>\n",
    " 2   | 3 |  3  | 2 <br>\n",
    " 3   | 3 |  6  | 1 <br>\n",
    " 4   | 3 |  9  | 0 <br>\n",
    " \n",
    " x < 0 の場合、このループは無限に続いてしまうので注意\n",
    " x > 0 の場合、1回以上は処理が行われる\n",
    " x == 0　の場合は、一度も処理が行われずprint文にうつる"
   ]
  },
  {
   "cell_type": "code",
   "execution_count": 16,
   "metadata": {},
   "outputs": [
    {
     "name": "stdout",
     "output_type": "stream",
     "text": [
      "132 is divisible by 11 and 12\n"
     ]
    }
   ],
   "source": [
    "#11, 12ともに割りきれる正の整数を見つける\n",
    "x = 1\n",
    "while True:\n",
    "    if x%11 == 0 and x%12 == 0:\n",
    "        break #11と12で割り切れるときwhileループから抜け出す\n",
    "    x = x + 1 #1, 2, 3, …　数字を調べていく\n",
    "print(x, 'is divisible by 11 and 12')"
   ]
  },
  {
   "cell_type": "markdown",
   "metadata": {},
   "source": [
    "### 第3章　簡単な算術プログラム"
   ]
  },
  {
   "cell_type": "code",
   "execution_count": 20,
   "metadata": {},
   "outputs": [
    {
     "name": "stdout",
     "output_type": "stream",
     "text": [
      "Cube root of 27 is  3\n"
     ]
    }
   ],
   "source": [
    "# 総当たり\n",
    "# 完全立方の立方根を求める\n",
    "x = 27\n",
    "ans = 0\n",
    "while ans ** 3 < abs(x): #abs()絶対値を求める関数\n",
    "    ans = ans + 1\n",
    "if ans ** 3 != abs(x): #\n",
    "    print(x, 'is not a perfect cube')\n",
    "else:\n",
    "    if x < 0:\n",
    "        ans = -ans\n",
    "    print('Cube root of', x, 'is ', ans)"
   ]
  },
  {
   "cell_type": "markdown",
   "metadata": {},
   "source": [
    "上記のwhile文を抜ける場合は2通り\n",
    "1）　ans ** 3 = abs(x)\n",
    "2）　ans ** 3 > abs(x)\n",
    "2）の場合、完全立方であるが、元のxがマイナスである場合が考えられるので、else文でansを直した。\n"
   ]
  },
  {
   "cell_type": "markdown",
   "metadata": {},
   "source": [
    "#### ループ関数には適切な減少関数が必要となる\n",
    "- 関数はプログラム内の変数のある集合を整数値に写像する\n",
    "- ループに入った際、その値が負ではない\n",
    "- 値が0以下の場合、ループが終了する\n",
    "- ループを通るたびに値が減少する"
   ]
  },
  {
   "cell_type": "markdown",
   "metadata": {},
   "source": [
    "上記のwhileループでの減少関数は\n",
    "abs(x) - ans ** 3\n",
    "である。途中でprint文を挿入することで減少関数が本当に減少するか確認することができる"
   ]
  },
  {
   "cell_type": "code",
   "execution_count": 21,
   "metadata": {},
   "outputs": [
    {
     "name": "stdout",
     "output_type": "stream",
     "text": [
      "0\n",
      "1\n",
      "2\n",
      "3\n"
     ]
    }
   ],
   "source": [
    "#forループ\n",
    "x = 4\n",
    "for ii in range(0, x):\n",
    "    print(ii)"
   ]
  },
  {
   "cell_type": "code",
   "execution_count": 23,
   "metadata": {},
   "outputs": [
    {
     "name": "stdout",
     "output_type": "stream",
     "text": [
      "0\n",
      "1\n",
      "2\n",
      "3\n",
      "x is  5\n"
     ]
    }
   ],
   "source": [
    "x = 4\n",
    "for ii in range(0, x):\n",
    "    print(ii)\n",
    "    x = 5\n",
    "print('x is ', x)"
   ]
  },
  {
   "cell_type": "markdown",
   "metadata": {},
   "source": [
    "上記のブロック内の\n",
    "x＝5\n",
    "はfor文の初めで評価されたrange関数に影響を与えないことがわかる"
   ]
  },
  {
   "cell_type": "code",
   "execution_count": 24,
   "metadata": {},
   "outputs": [
    {
     "name": "stdout",
     "output_type": "stream",
     "text": [
      "0\n",
      "1\n",
      "2\n",
      "3\n",
      "0\n",
      "1\n",
      "0\n",
      "1\n",
      "0\n",
      "1\n",
      "x is  2\n"
     ]
    }
   ],
   "source": [
    "x = 4\n",
    "for jj in range(x):\n",
    "    for ii in range(x):\n",
    "        print(ii)\n",
    "        x = 2\n",
    "print('x is ', x)"
   ]
  },
  {
   "cell_type": "markdown",
   "metadata": {},
   "source": [
    "外側のrange（）は一度しか評価されない（x=4）<br>しかし、内側のrange関数は処理が移るたびに評価される（x＝2）<br>区切るならば、0123, 01, 01, 01で出力されている。"
   ]
  },
  {
   "cell_type": "code",
   "execution_count": 25,
   "metadata": {},
   "outputs": [
    {
     "name": "stdout",
     "output_type": "stream",
     "text": [
      "Cube root of 27 is  3\n"
     ]
    }
   ],
   "source": [
    "#完全立方に対する立方根を求める\n",
    "x = 27\n",
    "for ans in range(0, abs(x)+1):\n",
    "    if ans ** 3 >= abs(x): #完全立方\n",
    "        break\n",
    "if ans ** 3 != abs(x):\n",
    "    print(x, 'is not a perfect cube')\n",
    "else:\n",
    "    if x < 0:\n",
    "        ans = -ans\n",
    "    print('Cube root of', x, 'is ', ans)"
   ]
  },
  {
   "cell_type": "markdown",
   "metadata": {},
   "source": [
    "上記は総当たりのアルゴリズムである"
   ]
  },
  {
   "cell_type": "code",
   "execution_count": 30,
   "metadata": {},
   "outputs": [
    {
     "name": "stdout",
     "output_type": "stream",
     "text": [
      "45\n"
     ]
    }
   ],
   "source": [
    "#文字列の各文字に対する繰り返し処理\n",
    "total = 0\n",
    "for cc in '123456789': #文字列の1文字（str）を持ってくる\n",
    "    total = total + int(cc) #ccの文字をintで変換\n",
    "print(total) #数値として出力"
   ]
  },
  {
   "cell_type": "code",
   "execution_count": null,
   "metadata": {},
   "outputs": [],
   "source": [
    "#"
   ]
  }
 ],
 "metadata": {
  "kernelspec": {
   "display_name": "Python 3",
   "language": "python",
   "name": "python3"
  },
  "language_info": {
   "codemirror_mode": {
    "name": "ipython",
    "version": 3
   },
   "file_extension": ".py",
   "mimetype": "text/x-python",
   "name": "python",
   "nbconvert_exporter": "python",
   "pygments_lexer": "ipython3",
   "version": "3.7.5"
  }
 },
 "nbformat": 4,
 "nbformat_minor": 4
}
