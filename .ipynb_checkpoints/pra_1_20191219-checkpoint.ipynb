{
 "cells": [
  {
   "cell_type": "markdown",
   "metadata": {},
   "source": [
    "# Pythonの勉強\n",
    "## 教材\n",
    "- Python言語によるプログラミングイントロダクション第2版データサイエンスとアプリケーション\n"
   ]
  },
  {
   "cell_type": "markdown",
   "metadata": {},
   "source": [
    "## day1\n",
    "### 第2章　Pythonの概要"
   ]
  },
  {
   "cell_type": "code",
   "execution_count": 2,
   "metadata": {},
   "outputs": [
    {
     "data": {
      "text/plain": [
       "363"
      ]
     },
     "execution_count": 2,
     "metadata": {},
     "output_type": "execute_result"
    }
   ],
   "source": [
    "# 変数と代入\n",
    "pi = 3\n",
    "radius =11\n",
    "area = pi * (radius ** 2) #円の面積\n",
    "radius = 14\n",
    "area"
   ]
  },
  {
   "cell_type": "markdown",
   "metadata": {},
   "source": [
    "radiusは異なる整数型のオブジェクトと再度紐付けされた。このとき、areaの値には影響しない。"
   ]
  },
  {
   "cell_type": "code",
   "execution_count": 3,
   "metadata": {},
   "outputs": [
    {
     "name": "stdout",
     "output_type": "stream",
     "text": [
      "2 , 3\n"
     ]
    }
   ],
   "source": [
    "# 複数の代入を1行で書くことができる\n",
    "x, y = 2, 3\n",
    "print(x,\",\", y)"
   ]
  },
  {
   "cell_type": "markdown",
   "metadata": {},
   "source": [
    "xに2、yに3が代入されている"
   ]
  },
  {
   "cell_type": "code",
   "execution_count": 4,
   "metadata": {},
   "outputs": [
    {
     "name": "stdout",
     "output_type": "stream",
     "text": [
      "x =  3\n",
      "y =  2\n"
     ]
    }
   ],
   "source": [
    "x, y = 2, 3\n",
    "x, y = y, x\n",
    "print('x = ', x)\n",
    "print('y = ', y)"
   ]
  },
  {
   "cell_type": "markdown",
   "metadata": {},
   "source": [
    "xに3、yに2が代入されている。\n",
    "x, y = y, x\n",
    "の行で交換されている"
   ]
  },
  {
   "cell_type": "code",
   "execution_count": 5,
   "metadata": {},
   "outputs": [
    {
     "name": "stdout",
     "output_type": "stream",
     "text": [
      "Odd\n",
      "x =  3\n",
      "Done with conditional\n"
     ]
    }
   ],
   "source": [
    "#分岐プログラム\n",
    "if x%2 == 0:\n",
    "    print('Even')\n",
    "else:\n",
    "    print('Odd')\n",
    "print('x = ', x)\n",
    "print('Done with conditional')"
   ]
  },
  {
   "cell_type": "markdown",
   "metadata": {},
   "source": [
    "x = 3であり、奇数であることから、\n",
    "x%2 == 0\n",
    "この式がFalseと判断された。よってifブロック内は処理されず、elseブロックの処理が行われた"
   ]
  },
  {
   "cell_type": "code",
   "execution_count": 6,
   "metadata": {},
   "outputs": [
    {
     "name": "stdout",
     "output_type": "stream",
     "text": [
      "Divisible by 3 and not by 2\n",
      "x =  3\n"
     ]
    }
   ],
   "source": [
    "#ネスト\n",
    "if x%2 == 0:\n",
    "    if x%3 == 0:\n",
    "        print('Divisible by 2 and 3')\n",
    "    else:\n",
    "        print('Divisible by 2 and not by 3')\n",
    "elif x%3 == 0: #else ifを表している\n",
    "    print('Divisible by 3 and not by 2')\n",
    "print('x = ', x)\n"
   ]
  },
  {
   "cell_type": "code",
   "execution_count": 7,
   "metadata": {},
   "outputs": [
    {
     "name": "stdout",
     "output_type": "stream",
     "text": [
      "x =  2\n",
      "y =  5\n",
      "z =  3\n",
      "x is least \n"
     ]
    }
   ],
   "source": [
    "#複合論理式\n",
    "x, y, z = 2, 5, 3\n",
    "print('x = ', x)\n",
    "print('y = ', y)\n",
    "print('z = ', z)\n",
    "if x < y and x < z:\n",
    "    print('x is least ')\n",
    "elif y < z:\n",
    "    print('y is least')\n",
    "else:\n",
    "    print('z is least')"
   ]
  },
  {
   "cell_type": "markdown",
   "metadata": {},
   "source": [
    "初めのif文でx < y,z であることがわかり、そのブロックが実行された。このとき、elifの条件文はスキップされる。"
   ]
  },
  {
   "cell_type": "code",
   "execution_count": 8,
   "metadata": {},
   "outputs": [
    {
     "name": "stdout",
     "output_type": "stream",
     "text": [
      "3\n"
     ]
    }
   ],
   "source": [
    "#文字列と入力\n",
    "ss = 'abc'\n",
    "print(len(ss))"
   ]
  },
  {
   "cell_type": "code",
   "execution_count": 9,
   "metadata": {},
   "outputs": [
    {
     "ename": "IndexError",
     "evalue": "string index out of range",
     "output_type": "error",
     "traceback": [
      "\u001b[0;31m---------------------------------------------------------------------------\u001b[0m",
      "\u001b[0;31mIndexError\u001b[0m                                Traceback (most recent call last)",
      "\u001b[0;32m<ipython-input-9-c6431ea35130>\u001b[0m in \u001b[0;36m<module>\u001b[0;34m\u001b[0m\n\u001b[1;32m      1\u001b[0m \u001b[0;31m#pythonでは添字は0から始まる\u001b[0m\u001b[0;34m\u001b[0m\u001b[0;34m\u001b[0m\u001b[0;34m\u001b[0m\u001b[0m\n\u001b[1;32m      2\u001b[0m \u001b[0;31m#以下のcodeはエラーになる\u001b[0m\u001b[0;34m\u001b[0m\u001b[0;34m\u001b[0m\u001b[0;34m\u001b[0m\u001b[0m\n\u001b[0;32m----> 3\u001b[0;31m \u001b[0mss\u001b[0m\u001b[0;34m[\u001b[0m\u001b[0;36m3\u001b[0m\u001b[0;34m]\u001b[0m \u001b[0;31m#error\u001b[0m\u001b[0;34m\u001b[0m\u001b[0;34m\u001b[0m\u001b[0m\n\u001b[0m",
      "\u001b[0;31mIndexError\u001b[0m: string index out of range"
     ]
    }
   ],
   "source": [
    "#pythonでは添字は0から始まる\n",
    "#以下のcodeはエラーになる\n",
    "ss[3] #error"
   ]
  },
  {
   "cell_type": "code",
   "execution_count": 10,
   "metadata": {},
   "outputs": [
    {
     "data": {
      "text/plain": [
       "'c'"
      ]
     },
     "execution_count": 10,
     "metadata": {},
     "output_type": "execute_result"
    }
   ],
   "source": [
    "#-1で最後の文字を持ってくることができる\n",
    "ss[-1] #c が表示される"
   ]
  },
  {
   "cell_type": "code",
   "execution_count": 14,
   "metadata": {},
   "outputs": [
    {
     "name": "stdout",
     "output_type": "stream",
     "text": [
      "4*4=16\n"
     ]
    }
   ],
   "source": [
    "#繰り返し\n",
    "#整数の2乗を地道に求める\n",
    "x = 4\n",
    "ans = 0\n",
    "itersLeft = x\n",
    "\n",
    "while (itersLeft != 0):\n",
    "    ans = ans + x\n",
    "    itersLeft = itersLeft - 1 #これが0になるまで繰り返される\n",
    "print(str(x) + '*' + str(x) + '=' + str(ans))\n"
   ]
  },
  {
   "cell_type": "markdown",
   "metadata": {},
   "source": [
    "test | x | ans | itersLeft <br>\n",
    " 1   | 3 |  0  | 3 <br>\n",
    " 2   | 3 |  3  | 2 <br>\n",
    " 3   | 3 |  6  | 1 <br>\n",
    " 4   | 3 |  9  | 0 <br>\n",
    " \n",
    " x < 0 の場合、このループは無限に続いてしまうので注意\n",
    " x > 0 の場合、1回以上は処理が行われる\n",
    " x == 0　の場合は、一度も処理が行われずprint文にうつる"
   ]
  },
  {
   "cell_type": "code",
   "execution_count": 16,
   "metadata": {},
   "outputs": [
    {
     "name": "stdout",
     "output_type": "stream",
     "text": [
      "132 is divisible by 11 and 12\n"
     ]
    }
   ],
   "source": [
    "#11, 12ともに割りきれる正の整数を見つける\n",
    "x = 1\n",
    "while True:\n",
    "    if x%11 == 0 and x%12 == 0:\n",
    "        break #11と12で割り切れるときwhileループから抜け出す\n",
    "    x = x + 1 #1, 2, 3, …　数字を調べていく\n",
    "print(x, 'is divisible by 11 and 12')"
   ]
  },
  {
   "cell_type": "markdown",
   "metadata": {},
   "source": [
    "### 第3章　簡単な算術プログラム"
   ]
  },
  {
   "cell_type": "code",
   "execution_count": 20,
   "metadata": {},
   "outputs": [
    {
     "name": "stdout",
     "output_type": "stream",
     "text": [
      "Cube root of 27 is  3\n"
     ]
    }
   ],
   "source": [
    "# 総当たり\n",
    "# 完全立方の立方根を求める\n",
    "x = 27\n",
    "ans = 0\n",
    "while ans ** 3 < abs(x): #abs()絶対値を求める関数\n",
    "    ans = ans + 1\n",
    "if ans ** 3 != abs(x): #\n",
    "    print(x, 'is not a perfect cube')\n",
    "else:\n",
    "    if x < 0:\n",
    "        ans = -ans\n",
    "    print('Cube root of', x, 'is ', ans)"
   ]
  },
  {
   "cell_type": "markdown",
   "metadata": {},
   "source": [
    "上記のwhile文を抜ける場合は2通り\n",
    "1）　ans ** 3 = abs(x)\n",
    "2）　ans ** 3 > abs(x)\n",
    "2）の場合、完全立方であるが、元のxがマイナスである場合が考えられるので、else文でansを直した。\n"
   ]
  },
  {
   "cell_type": "markdown",
   "metadata": {},
   "source": [
    "#### ループ関数には適切な減少関数が必要となる\n",
    "- 関数はプログラム内の変数のある集合を整数値に写像する\n",
    "- ループに入った際、その値が負ではない\n",
    "- 値が0以下の場合、ループが終了する\n",
    "- ループを通るたびに値が減少する"
   ]
  },
  {
   "cell_type": "markdown",
   "metadata": {},
   "source": [
    "上記のwhileループでの減少関数は\n",
    "abs(x) - ans ** 3\n",
    "である。途中でprint文を挿入することで減少関数が本当に減少するか確認することができる"
   ]
  },
  {
   "cell_type": "code",
   "execution_count": 21,
   "metadata": {},
   "outputs": [
    {
     "name": "stdout",
     "output_type": "stream",
     "text": [
      "0\n",
      "1\n",
      "2\n",
      "3\n"
     ]
    }
   ],
   "source": [
    "#forループ\n",
    "x = 4\n",
    "for ii in range(0, x):\n",
    "    print(ii)"
   ]
  },
  {
   "cell_type": "code",
   "execution_count": 23,
   "metadata": {},
   "outputs": [
    {
     "name": "stdout",
     "output_type": "stream",
     "text": [
      "0\n",
      "1\n",
      "2\n",
      "3\n",
      "x is  5\n"
     ]
    }
   ],
   "source": [
    "x = 4\n",
    "for ii in range(0, x):\n",
    "    print(ii)\n",
    "    x = 5\n",
    "print('x is ', x)"
   ]
  },
  {
   "cell_type": "markdown",
   "metadata": {},
   "source": [
    "上記のブロック内の\n",
    "x＝5\n",
    "はfor文の初めで評価されたrange関数に影響を与えないことがわかる"
   ]
  },
  {
   "cell_type": "code",
   "execution_count": 24,
   "metadata": {},
   "outputs": [
    {
     "name": "stdout",
     "output_type": "stream",
     "text": [
      "0\n",
      "1\n",
      "2\n",
      "3\n",
      "0\n",
      "1\n",
      "0\n",
      "1\n",
      "0\n",
      "1\n",
      "x is  2\n"
     ]
    }
   ],
   "source": [
    "x = 4\n",
    "for jj in range(x):\n",
    "    for ii in range(x):\n",
    "        print(ii)\n",
    "        x = 2\n",
    "print('x is ', x)"
   ]
  },
  {
   "cell_type": "markdown",
   "metadata": {},
   "source": [
    "外側のrange（）は一度しか評価されない（x=4）<br>しかし、内側のrange関数は処理が移るたびに評価される（x＝2）<br>区切るならば、0123, 01, 01, 01で出力されている。"
   ]
  },
  {
   "cell_type": "code",
   "execution_count": 25,
   "metadata": {},
   "outputs": [
    {
     "name": "stdout",
     "output_type": "stream",
     "text": [
      "Cube root of 27 is  3\n"
     ]
    }
   ],
   "source": [
    "#完全立方に対する立方根を求める\n",
    "x = 27\n",
    "for ans in range(0, abs(x)+1):\n",
    "    if ans ** 3 >= abs(x): #完全立方\n",
    "        break\n",
    "if ans ** 3 != abs(x):\n",
    "    print(x, 'is not a perfect cube')\n",
    "else:\n",
    "    if x < 0:\n",
    "        ans = -ans\n",
    "    print('Cube root of', x, 'is ', ans)"
   ]
  },
  {
   "cell_type": "markdown",
   "metadata": {},
   "source": [
    "上記は総当たりのアルゴリズムである"
   ]
  },
  {
   "cell_type": "code",
   "execution_count": 30,
   "metadata": {},
   "outputs": [
    {
     "name": "stdout",
     "output_type": "stream",
     "text": [
      "45\n"
     ]
    }
   ],
   "source": [
    "#文字列の各文字に対する繰り返し処理\n",
    "total = 0\n",
    "for cc in '123456789': #文字列の1文字（str）を持ってくる\n",
    "    total = total + int(cc) #ccの文字をintで変換\n",
    "print(total) #数値として出力"
   ]
  },
  {
   "cell_type": "code",
   "execution_count": 40,
   "metadata": {},
   "outputs": [
    {
     "name": "stdout",
     "output_type": "stream",
     "text": [
      "numGuesses = 49990\n",
      "4.999000000001688 is close to square root of 25\n"
     ]
    }
   ],
   "source": [
    "#近似解と2分法\n",
    "x = 25\n",
    "epsilon = 0.01 #0.01以下の誤差で探す\n",
    "step = epsilon**2 #2乗を入れる\n",
    "numGuesses = 0\n",
    "ans = 0.0\n",
    "# while abs(ans**2 - x) >= epsilon and ans <= x: #0-x の間を探している\n",
    "while abs(ans**2 - x) >= epsilon and ans*ans <= x: #xが0-1の間にある場合はこちら\n",
    "    ans += step #ans = ans + step と同じ意味\n",
    "    numGuesses += 1\n",
    "print('numGuesses =', numGuesses)\n",
    "if abs(ans**2 - x) >= epsilon:\n",
    "    print('Failed on square root of', x)\n",
    "else:\n",
    "    print(ans, 'is close to square root of', x)"
   ]
  },
  {
   "cell_type": "markdown",
   "metadata": {},
   "source": [
    "whileを抜けた時、abs(ans** 2 - x) < epsilonこの式が成り立っている。<br>誤差0.01以下でansが導かれている。<br>ansは0.0001ずつ増加しており、ans*ans <= xによってwhileループを抜けた場合、ansは入力されたxを超えていることになる"
   ]
  },
  {
   "cell_type": "markdown",
   "metadata": {},
   "source": [
    "上記の方法では、より誤差の小さい値を求める時step数を小さくせねばならない。そのときループ回数は膨大になるため計算に時間がかかりすぎる欠点がある。"
   ]
  },
  {
   "cell_type": "code",
   "execution_count": 41,
   "metadata": {},
   "outputs": [
    {
     "name": "stdout",
     "output_type": "stream",
     "text": [
      "low = 0.0 high = 25 ans = 12.5\n",
      "low = 0.0 high = 12.5 ans = 6.25\n",
      "low = 0.0 high = 6.25 ans = 3.125\n",
      "low = 3.125 high = 6.25 ans = 4.6875\n",
      "low = 4.6875 high = 6.25 ans = 5.46875\n",
      "low = 4.6875 high = 5.46875 ans = 5.078125\n",
      "low = 4.6875 high = 5.078125 ans = 4.8828125\n",
      "low = 4.8828125 high = 5.078125 ans = 4.98046875\n",
      "low = 4.98046875 high = 5.078125 ans = 5.029296875\n",
      "low = 4.98046875 high = 5.029296875 ans = 5.0048828125\n",
      "low = 4.98046875 high = 5.0048828125 ans = 4.99267578125\n",
      "low = 4.99267578125 high = 5.0048828125 ans = 4.998779296875\n",
      "low = 4.998779296875 high = 5.0048828125 ans = 5.0018310546875\n",
      "numGuesses = 13\n",
      "5.00030517578125 is clone to square root of 25\n"
     ]
    }
   ],
   "source": [
    "#2分法\n",
    "x = 25\n",
    "epsilon = 0.01 #誤差0.01で解を求める\n",
    "numGuesses = 0\n",
    "low = 0.0\n",
    "high = max(1.0, x) #xが1より大きければhighに代入される\n",
    "ans = (high + low)/2.0 #中間の値をansに代入\n",
    "\n",
    "while abs(ans**2 - x) >= epsilon:\n",
    "    print('low =', low, 'high =', high, 'ans =', ans)\n",
    "    numGuesses += 1\n",
    "    \n",
    "    #ansの2乗がxより小さければ次は、ans-xの間を探す。大きければx-ansの間を探す\n",
    "    if ans**2 < x:\n",
    "        low = ans\n",
    "    else:\n",
    "        high = ans\n",
    "    ans = (high + low)/2.0 #定義し直したhighlowの間を新しいansとして用いる\n",
    "print('numGuesses =', numGuesses)\n",
    "print(ans, 'is clone to square root of', x)"
   ]
  },
  {
   "cell_type": "markdown",
   "metadata": {},
   "source": [
    "以下の？のように計算範囲を半分に減らしている<br>\n",
    "```\n",
    "0__________max<br>\n",
    "0____?_____max<br>\n",
    "?をlow(l)としてその中間を探している<br>\n",
    "……………l__?__max<br>\n",
    "```"
   ]
  },
  {
   "cell_type": "code",
   "execution_count": 47,
   "metadata": {},
   "outputs": [
    {
     "name": "stdout",
     "output_type": "stream",
     "text": [
      "0.9999999999999999 is not 1.0\n"
     ]
    }
   ],
   "source": [
    "#浮動少数点数型の利用に関する注意\n",
    "x = 0.0\n",
    "for ii in range(10):\n",
    "    x += 0.1\n",
    "if x == 1.0:\n",
    "    print(x, '= 1.0')\n",
    "else:\n",
    "    print(x, 'is not 1.0')"
   ]
  },
  {
   "cell_type": "markdown",
   "metadata": {},
   "source": [
    "上記の分岐ではelse式の処理が実行されている。この原因の理解には2進数についての理解が必要になる"
   ]
  },
  {
   "cell_type": "markdown",
   "metadata": {},
   "source": [
    "##### memo\n",
    "- 10進数\n",
    "10進数はデジット0123456789の並びで表現される。最も右の桁は10の0乗。**n桁では10のn乗個の異なった数を表現できる**<br>\n",
    "ex)303（10進数）　ー＞　``3＊100 + 0*10 + 1*1(0乗は1)``\n",
    "- 2進数\n",
    "2進数はデジット01の並びで表現される。これらはbitと呼ばれる。最も右の桁は2の0乗。**n桁では2のn乗個の異なった数を表現できる**<br>\n",
    "ex)101（2進数）　ー＞　``1*4 + 0*2 + 1*1``\n",
    "\n"
   ]
  },
  {
   "cell_type": "markdown",
   "metadata": {},
   "source": [
    "##### memo\n",
    "数字を整数値のペアとして表現する（仮数部と指数部）\n",
    "ex)``1.949 -> 1949 * 10のマイナス3乗``\n",
    "このとき、仮数部（1949）は表現可能な精度を表している。仮数は2桁であれば1.949を表現できず、1.9として表現される（丸め値）\n",
    "コンピュータでは2進数で整数値のペアを表現する。\n",
    "ex)``0.625(=5/8) -> (101, -11)``\n",
    "\n",
    "10進数の1/10を2進数で表現したい時、(0.1)10=(0.000110011001100110011…)2\n",
    "そのため、仮数部の有効桁数を4桁とした場合、（0011, -101）と表現される。これは3/32と等しい。つまり、0.09375である。\n",
    "5桁とした場合、（11001, -1000）で表され、25/256と等しいため値は0.09765625となる。\n",
    "\n",
    "無限桁必要になり、Pythonは0.1を浮動小数点で表現するため近似値でしか0.1を表せない。"
   ]
  },
  {
   "cell_type": "markdown",
   "metadata": {},
   "source": [
    "よって先ほどの分岐ではx＝＝1.0がFalseになるため、elseの処理が行われた。<br>この間違った処理を回避するためにはround関数を用いる。この関数で値を丸めることができる。"
   ]
  },
  {
   "cell_type": "code",
   "execution_count": 48,
   "metadata": {},
   "outputs": [
    {
     "name": "stdout",
     "output_type": "stream",
     "text": [
      "1.414\n"
     ]
    }
   ],
   "source": [
    "print(round(2**0.5, 3))#2の平方根を丸める"
   ]
  },
  {
   "cell_type": "markdown",
   "metadata": {},
   "source": [
    "値を比較する時のコツ。\n",
    "1と0.999…が等しくない状況はほぼない。しかし、浮動小数点の値を比較する際に``==``を用いると結果を間違える可能性がある。そのような場合には以下のように式を評価することが適切。ただし、丸め誤差の蓄積には注意が必要<br>\n",
    "`x == y` -> False<br>\n",
    "`abs(x-y) < 0.0001` -> True"
   ]
  },
  {
   "cell_type": "code",
   "execution_count": 49,
   "metadata": {},
   "outputs": [
    {
     "name": "stdout",
     "output_type": "stream",
     "text": [
      "Square root of 24.0 is about 4.8989887432139305\n"
     ]
    }
   ],
   "source": [
    "#ニュートン-ラフソン法（近似アルゴリズム）\n",
    "#x**2 - 24 = 0で誤差がepsilon以下になるxを求める\n",
    "epsilon = 0.01\n",
    "k = 24.0\n",
    "guess = k/2.0\n",
    "while abs(guess*guess - k) >= epsilon:\n",
    "    guess = guess - (((guess**2) - k)/(2*guess))\n",
    "print('Square root of', k, 'is about', guess)"
   ]
  },
  {
   "cell_type": "markdown",
   "metadata": {},
   "source": [
    "pが多項式でrが実数の場合、p（r）は多項式のxにrを代入した値を意味する。多項式pのルートは式p＝0の解である。つまり、p（r）＝0となるrである。"
   ]
  },
  {
   "cell_type": "markdown",
   "metadata": {},
   "source": [
    "### 第4章　関数、スコープ、抽象化"
   ]
  },
  {
   "cell_type": "code",
   "execution_count": null,
   "metadata": {},
   "outputs": [],
   "source": []
  }
 ],
 "metadata": {
  "kernelspec": {
   "display_name": "Python 3",
   "language": "python",
   "name": "python3"
  },
  "language_info": {
   "codemirror_mode": {
    "name": "ipython",
    "version": 3
   },
   "file_extension": ".py",
   "mimetype": "text/x-python",
   "name": "python",
   "nbconvert_exporter": "python",
   "pygments_lexer": "ipython3",
   "version": "3.7.5"
  }
 },
 "nbformat": 4,
 "nbformat_minor": 4
}
